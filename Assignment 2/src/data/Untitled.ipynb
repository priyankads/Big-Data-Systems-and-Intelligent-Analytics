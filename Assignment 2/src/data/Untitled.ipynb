{
 "cells": [
  {
   "cell_type": "code",
   "execution_count": 1,
   "id": "f4bc821b-58c4-4788-9a86-9249c3ed3706",
   "metadata": {},
   "outputs": [
    {
     "name": "stdout",
     "output_type": "stream",
     "text": [
      "CURRENT PATH ------  /scratch/zutshi.k/neurips-2020-sevir-master/src/data\n",
      "DEFAULT_CATALOG ------  /scratch/zutshi.k/neurips-2020-sevir-master/src/data/CATALOG.csv\n",
      "DEFAULT_DATA_HOME ------  /scratch/zutshi.k/neurips-2020-sevir-master/src/data/sevir\n"
     ]
    }
   ],
   "source": [
    "\"\"\"\n",
    "Makes training and test dataset for nowcasting model using SEVIR\n",
    "\"\"\"\n",
    "\n",
    "# -*- coding: utf-8 -*-\n",
    "import argparse\n",
    "import logging\n",
    "\n",
    "import os\n",
    "import h5py\n",
    "os.environ[\"HDF5_USE_FILE_LOCKING\"]='FALSE'\n",
    "\n",
    "import sys\n",
    "import numpy as np\n",
    "import tensorflow as tf\n",
    "from nowcast_generator import get_nowcast_train_generator,get_nowcast_test_generator"
   ]
  },
  {
   "cell_type": "code",
   "execution_count": 2,
   "id": "5064f94a-4ca5-4785-8aab-e837f171fdcb",
   "metadata": {},
   "outputs": [
    {
     "name": "stderr",
     "output_type": "stream",
     "text": [
      "usage: ipykernel_launcher.py [-h] [--sevir_data SEVIR_DATA]\n",
      "                             [--sevir_catalog SEVIR_CATALOG]\n",
      "                             [--output_location OUTPUT_LOCATION]\n",
      "                             [--n_chunks N_CHUNKS]\n",
      "ipykernel_launcher.py: error: unrecognized arguments: -f /home/zutshi.k/.local/share/jupyter/runtime/kernel-2b46a907-5714-459f-9628-141b8087b17e.json\n"
     ]
    },
    {
     "ename": "SystemExit",
     "evalue": "2",
     "output_type": "error",
     "traceback": [
      "An exception has occurred, use %tb to see the full traceback.\n",
      "\u001b[0;31mSystemExit\u001b[0m\u001b[0;31m:\u001b[0m 2\n"
     ]
    },
    {
     "name": "stderr",
     "output_type": "stream",
     "text": [
      "/home/zutshi.k/.conda/envs/pytorch_kz_env/lib/python3.7/site-packages/IPython/core/interactiveshell.py:3465: UserWarning: To exit: use 'exit', 'quit', or Ctrl-D.\n",
      "  warn(\"To exit: use 'exit', 'quit', or Ctrl-D.\", stacklevel=1)\n"
     ]
    }
   ],
   "source": [
    "parser = argparse.ArgumentParser(description='Make nowcast training & test datasets using SEVIR')\n",
    "parser.add_argument('--sevir_data', type=str, help='location of SEVIR dataset',default='../../data/sevir')\n",
    "parser.add_argument('--sevir_catalog', type=str, help='location of SEVIR dataset',default='../../data/CATALOG.csv')\n",
    "parser.add_argument('--output_location', type=str, help='location of SEVIR dataset',default='../../data/interim')\n",
    "parser.add_argument('--n_chunks', type=int, help='Number of chucks to use (increase if memory limited)',default=10)\n",
    "\n",
    "\n",
    "args = parser.parse_args()"
   ]
  },
  {
   "cell_type": "code",
   "execution_count": 3,
   "id": "52d733f9-eda3-4880-96ab-94fd62e7974d",
   "metadata": {},
   "outputs": [],
   "source": [
    " tst_generator = get_nowcast_test_generator(sevir_catalog='/scratch/zutshi.k/neurips-2020-sevir-master/src/data/CATALOG.csv',\n",
    "                                               sevir_location='/scratch/zutshi.k/neurips-2020-sevir-master/src/data/sevir/')"
   ]
  },
  {
   "cell_type": "code",
   "execution_count": 4,
   "id": "34bd60a7-090d-4b5d-8136-b26ef48fdf10",
   "metadata": {},
   "outputs": [
    {
     "name": "stdout",
     "output_type": "stream",
     "text": [
      "0\n"
     ]
    }
   ],
   "source": [
    "print(len(tst_generator))"
   ]
  },
  {
   "cell_type": "code",
   "execution_count": null,
   "id": "2d06143c-73a9-4314-9558-ec70fce1c182",
   "metadata": {},
   "outputs": [],
   "source": []
  }
 ],
 "metadata": {
  "kernelspec": {
   "display_name": "pytorch_kz_env",
   "language": "python",
   "name": "pytorch_kz_env"
  },
  "language_info": {
   "codemirror_mode": {
    "name": "ipython",
    "version": 3
   },
   "file_extension": ".py",
   "mimetype": "text/x-python",
   "name": "python",
   "nbconvert_exporter": "python",
   "pygments_lexer": "ipython3",
   "version": "3.7.11"
  }
 },
 "nbformat": 4,
 "nbformat_minor": 5
}
